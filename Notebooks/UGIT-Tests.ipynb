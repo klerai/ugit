{
 "cells": [
  {
   "cell_type": "markdown",
   "metadata": {},
   "source": [
    "# UGIT Test Routines"
   ]
  },
  {
   "cell_type": "code",
   "execution_count": 52,
   "metadata": {},
   "outputs": [],
   "source": [
    "import textwrap\n",
    "\n",
    "from ugit import data\n",
    "from ugit import base"
   ]
  },
  {
   "cell_type": "code",
   "execution_count": 26,
   "metadata": {},
   "outputs": [],
   "source": [
    "def refs_test (oid):\n",
    "    \"\"\" Expects an Commit Object Id \"\"\"\n",
    "    print ('''\n",
    "Testing Reference Functions:\n",
    "- ie. get_ref(), update_ref(), delete_ref() & iter_refs, \n",
    "''')\n",
    "\n",
    "    ref = f'refs/tags/test1'\n",
    "\n",
    "    print ('''Set a new reference: test1\n",
    "- and retrieve its value') \n",
    "''')\n",
    "    data.update_ref (ref, data.RefValue (symbolic=False, value=oid))\n",
    "    print (data.get_ref (ref).value)\n",
    "\n",
    "    print ('''\n",
    "Fetch all references and print their OIDs\n",
    "''')\n",
    "    for i in data.iter_refs (): print (i[1][1])\n",
    "\n",
    "    print ('''\n",
    "  - and delete the reference again''')\n",
    "    data.delete_ref (ref)"
   ]
  },
  {
   "cell_type": "code",
   "execution_count": 27,
   "metadata": {},
   "outputs": [],
   "source": [
    "def show_index ():\n",
    "    print ('''\n",
    "Retrieving the content from the json file: .ugit/index\n",
    "''')\n",
    "    with data.get_index() as index: print( index)"
   ]
  },
  {
   "cell_type": "code",
   "execution_count": 28,
   "metadata": {},
   "outputs": [],
   "source": [
    "def push_test (oid, remote_dir):\n",
    "    \"\"\" Expects Object Id & destination path \"\"\"\n",
    "    print (' Testing change_git_dir() together with push_object() & get_object()')\n",
    "\n",
    "    # oid = '47729ee8498ece441d20d936c2efb4a9c56a3cc7'\n",
    "    # remote_dir = '/home/klerai/tmp1'\n",
    "\n",
    "    print (' - insuring that the object database is available in the remote directory')\n",
    "    with data.change_git_dir (remote_dir):\n",
    "        data.init()\n",
    "\n",
    "    print (' - pushing existing object to remote store,')\n",
    "    data.push_object (oid, remote_dir)\n",
    "\n",
    "    print (' - afterwards displaying 25 chars of its content from the remote store')\n",
    "    print ()\n",
    "    with data.change_git_dir (remote_dir):\n",
    "        print( data.get_object (oid).decode()[:25])"
   ]
  },
  {
   "cell_type": "markdown",
   "metadata": {},
   "source": [
    "## Base Layer Test"
   ]
  },
  {
   "cell_type": "code",
   "execution_count": 29,
   "metadata": {},
   "outputs": [],
   "source": [
    "def populate_db ():\n",
    "    \"\"\" Initial setup for the UGIT database \"\"\"\n",
    "    if data.GIT_DIR.exists():\n",
    "        print ('Please remove existing .ugit tree before you run this test!')\n",
    "    else:\n",
    "        print ('Setting up the original .ugit dabase structure')\n",
    "        base.init ()\n",
    "        print (' - adding the ugit directory to the database ')\n",
    "        base.add (['ugit'])\n",
    "        print (' - and commit it')\n",
    "        oid = base.commit ('Initial commit for the files in ugit/')\n",
    "        print (' - attaching a branch to it')\n",
    "        base.create_branch ('v0.1', oid)\n",
    "        print (' - adding some more files')\n",
    "        base.add (['setup.py','WorkNotes.txt'])\n",
    "        print (' - with commit')\n",
    "        oid = base.commit ('added helper files to the working directort')\n",
    "        print (' - and attaching a tag to it')\n",
    "        base.create_tag ('Stage1', oid)\n",
    "        base.commit ('Working directory is prepared')\n",
    "        print ('we are ready to go')"
   ]
  },
  {
   "cell_type": "code",
   "execution_count": 54,
   "metadata": {},
   "outputs": [],
   "source": [
    "def check_HEAD ():\n",
    "    HEAD = base.get_oid ('@')\n",
    "    c_HEAD = base.get_commit (HEAD)\n",
    "    print (f'''\n",
    "TEST: Fetching current HEAD's OID:\n",
    "      {HEAD}\n",
    "\n",
    "      - and retrieving it's commit record:\n",
    "      \n",
    "{c_HEAD}\n",
    "\n",
    "      - followed by the tree object with list of files\n",
    "''')\n",
    "    print (base.get_tree (c_HEAD[0]))"
   ]
  },
  {
   "cell_type": "code",
   "execution_count": 55,
   "metadata": {},
   "outputs": [
    {
     "name": "stdout",
     "output_type": "stream",
     "text": [
      "Please remove existing .ugit tree before you run this test!\n",
      "\n",
      "TEST: Fetching current HEAD's OID:\n",
      "      f0ed05c972c1336315641d3cabd6169bb8b9b2c1\n",
      "\n",
      "      - and retrieving it's commit record:\n",
      "      \n",
      "Commit(tree='992bcf6e9e337d4fb01e9adedbead7755ab41ddf', parents=['a5b1ef8fabf605b1a50b88c17a87f7440f662bd6'], message='Working directory is prepared')\n",
      "\n",
      "      - followed by the tree object with list of files\n",
      "\n",
      "{'WorkNotes.txt': '52640e3e3a7f26dbbf38f78d5ae85936b9ed4866', 'setup.py': '2755dd23451d7d50751db5cacb3b059dc076989c', 'ugit/4tests/list_object_heads.py': 'bbb490717ee7274f8c1c4c7104d23a7e159419c4', 'ugit/4tests/ugit-test.py': '2b62fa7d22412ba4348f71b979b97bb747785b0c', 'ugit/__pycache__/base.cpython-36.pyc': '69603150f4ecdb5a811cc8fbbe53b93c1a65f2d4', 'ugit/__pycache__/data.cpython-36.pyc': '8791ff03518dca0f8521ba7d6dce987aeee58346', 'ugit/__pycache__/diff.cpython-36.pyc': 'b9ddb27dae2e6ed6396896e98d18388bb4c84512', 'ugit/base.py': '82d611a6bbf08c9a81f11ab00ab7da781dac4a9e', 'ugit/cli.py': 'b2838bba4356dcaad890f01028d95492ce22ee54', 'ugit/data.py': 'a434464f5e65b68695bd27fc1d29a8d18f927b8a', 'ugit/diff.py': '67ee81b8e3c4c94c2bc70d741f21dfb997a493c9', 'ugit/remote.py': '47aed01fb9e6d9774f65074d207481af4aa73161'}\n"
     ]
    }
   ],
   "source": [
    "populate_db ()\n",
    "check_HEAD ()"
   ]
  },
  {
   "cell_type": "code",
   "execution_count": 32,
   "metadata": {},
   "outputs": [
    {
     "name": "stdout",
     "output_type": "stream",
     "text": [
      "\n",
      "Retrieving the content from the json file: .ugit/index\n",
      "\n",
      "{'WorkNotes.txt': '52640e3e3a7f26dbbf38f78d5ae85936b9ed4866', 'setup.py': '2755dd23451d7d50751db5cacb3b059dc076989c', 'ugit/4tests/list_object_heads.py': 'bbb490717ee7274f8c1c4c7104d23a7e159419c4', 'ugit/4tests/ugit-test.py': '2b62fa7d22412ba4348f71b979b97bb747785b0c', 'ugit/__pycache__/base.cpython-36.pyc': '69603150f4ecdb5a811cc8fbbe53b93c1a65f2d4', 'ugit/__pycache__/data.cpython-36.pyc': '8791ff03518dca0f8521ba7d6dce987aeee58346', 'ugit/__pycache__/diff.cpython-36.pyc': 'b9ddb27dae2e6ed6396896e98d18388bb4c84512', 'ugit/base.py': '82d611a6bbf08c9a81f11ab00ab7da781dac4a9e', 'ugit/cli.py': 'b2838bba4356dcaad890f01028d95492ce22ee54', 'ugit/data.py': 'a434464f5e65b68695bd27fc1d29a8d18f927b8a', 'ugit/diff.py': '67ee81b8e3c4c94c2bc70d741f21dfb997a493c9', 'ugit/remote.py': '47aed01fb9e6d9774f65074d207481af4aa73161'}\n"
     ]
    }
   ],
   "source": [
    "show_index()"
   ]
  },
  {
   "cell_type": "code",
   "execution_count": 33,
   "metadata": {
    "scrolled": true
   },
   "outputs": [
    {
     "name": "stdout",
     "output_type": "stream",
     "text": [
      " - list all references\n",
      "HEAD\n",
      "refs/heads/v0.1\n",
      "refs/heads/master\n",
      "refs/tags/Stage1\n"
     ]
    }
   ],
   "source": [
    "print (' - list all references')\n",
    "for ref in data.iter_refs (): print (ref[0])"
   ]
  },
  {
   "cell_type": "code",
   "execution_count": 34,
   "metadata": {},
   "outputs": [
    {
     "name": "stdout",
     "output_type": "stream",
     "text": [
      " - and listing all branches\n",
      "v0.1\n",
      "master\n"
     ]
    }
   ],
   "source": [
    "print (' - and listing all branches')\n",
    "for name in base.iter_branch_names (): print (name)"
   ]
  },
  {
   "cell_type": "code",
   "execution_count": 53,
   "metadata": {},
   "outputs": [
    {
     "name": "stdout",
     "output_type": "stream",
     "text": [
      "commit f0ed05c972c1336315641d3cabd6169bb8b9b2c1 (HEAD, refs/heads/master)\n",
      "\n",
      "    Working directory is prepared\n",
      "\n",
      "commit a5b1ef8fabf605b1a50b88c17a87f7440f662bd6 (refs/tags/Stage1)\n",
      "\n",
      "    added helper files to the working directort\n",
      "\n",
      "commit 1374e905cf08bf82807f9466ee7c08290b648952 (refs/heads/v0.1)\n",
      "\n",
      "    Initial commit for the files in ugit/\n",
      "\n"
     ]
    }
   ],
   "source": [
    "def _print_commit (oid, commit, refs=None):\n",
    "    refs_str = f' ({\", \".join (refs)})' if refs else ''\n",
    "    print (f'commit {oid}{refs_str}\\n')\n",
    "    print (textwrap.indent (commit.message, '    '))\n",
    "    print ('')\n",
    "\n",
    "def log (arg_oid):\n",
    "    refs = {}\n",
    "    for refname, ref in data.iter_refs ():\n",
    "        refs.setdefault (ref.value, []).append (refname)\n",
    "\n",
    "    for oid in base.iter_commits_and_parents ({arg_oid}):\n",
    "        commit = base.get_commit (oid)\n",
    "        _print_commit (oid, commit, refs.get (oid))\n",
    "\n",
    "log (base.get_oid('@'))"
   ]
  },
  {
   "cell_type": "code",
   "execution_count": 36,
   "metadata": {},
   "outputs": [],
   "source": [
    "#base.checkout ('v0.1')"
   ]
  },
  {
   "cell_type": "code",
   "execution_count": 37,
   "metadata": {},
   "outputs": [],
   "source": [
    "#base.checkout ('master')"
   ]
  },
  {
   "cell_type": "code",
   "execution_count": 38,
   "metadata": {},
   "outputs": [
    {
     "name": "stdout",
     "output_type": "stream",
     "text": [
      "\n",
      "Testing Reference Functions:\n",
      "- ie. get_ref(), update_ref(), delete_ref() & iter_refs, \n",
      "\n",
      "Set a new reference: test1\n",
      "- and retrieve its value') \n",
      "\n",
      "d837bc638b07078f86bb7e00b901971723f1a671\n",
      "\n",
      "Fetch all references and print their OIDs\n",
      "\n",
      "f0ed05c972c1336315641d3cabd6169bb8b9b2c1\n",
      "1374e905cf08bf82807f9466ee7c08290b648952\n",
      "f0ed05c972c1336315641d3cabd6169bb8b9b2c1\n",
      "a5b1ef8fabf605b1a50b88c17a87f7440f662bd6\n",
      "d837bc638b07078f86bb7e00b901971723f1a671\n",
      "\n",
      "  - and delete the reference again\n"
     ]
    }
   ],
   "source": [
    "refs_test ('d837bc638b07078f86bb7e00b901971723f1a671')"
   ]
  },
  {
   "cell_type": "code",
   "execution_count": 51,
   "metadata": {},
   "outputs": [
    {
     "name": "stdout",
     "output_type": "stream",
     "text": [
      "1374e905cf08bf82807f9466ee7c08290b648952\n"
     ]
    }
   ],
   "source": [
    "print( base.get_oid ('v0.1'))"
   ]
  },
  {
   "cell_type": "code",
   "execution_count": 40,
   "metadata": {},
   "outputs": [
    {
     "name": "stdout",
     "output_type": "stream",
     "text": [
      "Ok\n"
     ]
    }
   ],
   "source": [
    "if (data.GIT_DIR / 'refs/heads/master').is_file(): print ('Ok')"
   ]
  },
  {
   "cell_type": "code",
   "execution_count": null,
   "metadata": {},
   "outputs": [],
   "source": [
    "# cli.cat_file('f0ed05c972c1336315641d3cabd6169bb8b9b2c1')"
   ]
  }
 ],
 "metadata": {
  "kernelspec": {
   "display_name": "Python 3",
   "language": "python",
   "name": "python3"
  },
  "language_info": {
   "codemirror_mode": {
    "name": "ipython",
    "version": 3
   },
   "file_extension": ".py",
   "mimetype": "text/x-python",
   "name": "python",
   "nbconvert_exporter": "python",
   "pygments_lexer": "ipython3",
   "version": "3.6.10"
  },
  "latex_envs": {
   "LaTeX_envs_menu_present": true,
   "autoclose": false,
   "autocomplete": true,
   "bibliofile": "biblio.bib",
   "cite_by": "apalike",
   "current_citInitial": 1,
   "eqLabelWithNumbers": true,
   "eqNumInitial": 1,
   "hotkeys": {
    "equation": "Ctrl-E",
    "itemize": "Ctrl-I"
   },
   "labels_anchors": false,
   "latex_user_defs": false,
   "report_style_numbering": false,
   "user_envs_cfg": false
  }
 },
 "nbformat": 4,
 "nbformat_minor": 2
}
