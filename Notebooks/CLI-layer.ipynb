{
 "cells": [
  {
   "cell_type": "markdown",
   "metadata": {},
   "source": [
    "# Project UGIT¶\n",
    "- a Python based sample of a GIT type repository tool"
   ]
  },
  {
   "cell_type": "markdown",
   "metadata": {},
   "source": [
    "### CLI Layer"
   ]
  },
  {
   "cell_type": "code",
   "execution_count": null,
   "metadata": {},
   "outputs": [],
   "source": [
    "# File: cli.py\n",
    "# Date: 2020-12-04"
   ]
  },
  {
   "cell_type": "code",
   "execution_count": 1,
   "metadata": {},
   "outputs": [],
   "source": [
    "import string\n",
    "import subprocess\n",
    "import sys\n",
    "import textwrap\n",
    "import typer\n",
    "\n",
    "from pathlib import Path\n",
    "from typing import List,Optional\n",
    "\n",
    "from ugit import base\n",
    "from ugit import data\n",
    "from ugit import diff\n",
    "from ugit import remote"
   ]
  },
  {
   "cell_type": "code",
   "execution_count": 2,
   "metadata": {},
   "outputs": [],
   "source": [
    "def is_oid (oid):\n",
    "    is_hex = all (c in string.hexdigits for c in oid)\n",
    "    if len (oid) == 40 and is_hex and data.object_exists (oid):\n",
    "        return oid\n",
    "    else:\n",
    "        return base.get_oid (oid)"
   ]
  },
  {
   "cell_type": "code",
   "execution_count": 3,
   "metadata": {},
   "outputs": [],
   "source": [
    "app = typer.Typer()"
   ]
  },
  {
   "cell_type": "code",
   "execution_count": 4,
   "metadata": {},
   "outputs": [],
   "source": [
    "@app.command()\n",
    "def init():\n",
    "    \"\"\"\n",
    "    Initialize the UGIT repository\n",
    "    \"\"\"\n",
    "    base.init()\n",
    "    print (f'Initialized empty UGIT repository in {data.GIT_DIR.absolute()}')"
   ]
  },
  {
   "cell_type": "code",
   "execution_count": 5,
   "metadata": {},
   "outputs": [],
   "source": [
    "@app.command('hash-object')\n",
    "def hash_object (file: Path = typer.Argument(..., exists=True)):\n",
    "    \"\"\"\n",
    "    Add a single file to the repository and print it's OID\n",
    "    \"\"\"\n",
    "    print (data.hash_object (file.read_bytes ()))"
   ]
  },
  {
   "cell_type": "code",
   "execution_count": 6,
   "metadata": {},
   "outputs": [],
   "source": [
    "@app.command('cat-file')\n",
    "def cat_file (object: str  = typer.Argument(..., callback=is_oid)):\n",
    "    \"\"\"\n",
    "    Display the file content for a given OID\n",
    "    \"\"\"\n",
    "    if base.get_oid (object):\n",
    "        print (data.get_object (object, expected=None).decode())\n",
    "    else:\n",
    "        print ('Error: Object ID is not in the repository') "
   ]
  },
  {
   "cell_type": "code",
   "execution_count": 7,
   "metadata": {},
   "outputs": [],
   "source": [
    "@app.command('write-tree')\n",
    "def write_tree ():\n",
    "    \"\"\"\n",
    "    Write tree from Index to the repository\n",
    "    \"\"\"\n",
    "    base.write_tree ()\n",
    "    # print ('base.write_tree ()')"
   ]
  },
  {
   "cell_type": "code",
   "execution_count": 8,
   "metadata": {},
   "outputs": [],
   "source": [
    "@app.command('read-tree')\n",
    "def read_tree (tree: str):\n",
    "    \"\"\"\n",
    "    Read tree from repositiry into Index and checkout files\n",
    "    \"\"\"\n",
    "    base.read_tree (tree)\n",
    "    # print (f'base.read_tree ()\" - Tree: {tree}')"
   ]
  },
  {
   "cell_type": "code",
   "execution_count": 9,
   "metadata": {},
   "outputs": [],
   "source": [
    "@app.command()\n",
    "def commit (message: str,  \n",
    "            option: bool = typer.Option (False, \"--message\", \"-m\")):\n",
    "    \"\"\"\n",
    "    Commit the latest changes to the repository\n",
    "    \"\"\"\n",
    "    if option:\n",
    "        print (base.commit (message))"
   ]
  },
  {
   "cell_type": "code",
   "execution_count": 10,
   "metadata": {},
   "outputs": [],
   "source": [
    "def _print_commit (oid, commit, refs=None):\n",
    "    refs_str = f' ({\", \".join (refs)})' if refs else ''\n",
    "    print (f'commit {oid}{refs_str}\\n')\n",
    "    print (textwrap.indent (commit.message, '    '))\n",
    "    print ('')\n",
    "\n",
    "@app.command()    \n",
    "def log (value: str = typer.Argument('@', callback=is_oid)):\n",
    "    \"\"\"\n",
    "    Display a log of all Commits and References from the UGIT repository\n",
    "    \"\"\"\n",
    "    refs = {}\n",
    "    for refname, ref in data.iter_refs ():\n",
    "        refs.setdefault (ref.value, []).append (refname)\n",
    "\n",
    "    for oid in base.iter_commits_and_parents ({value}):\n",
    "        commit = base.get_commit (oid)\n",
    "        _print_commit (oid, commit, refs.get (oid))"
   ]
  },
  {
   "cell_type": "code",
   "execution_count": 11,
   "metadata": {},
   "outputs": [],
   "source": [
    "@app.command()\n",
    "def show (value: str = typer.Argument('@', callback=is_oid)):\n",
    "    \"\"\"\n",
    "    Show differences between given and previous Commit point \n",
    "    \"\"\" \n",
    "    commit = base.get_commit (value)\n",
    "    parent_tree = None\n",
    "    if commit.parents:\n",
    "        parent_tree = base.get_commit (commit.parents[0]).tree\n",
    "\n",
    "    _print_commit (value, commit)\n",
    "    result = diff.diff_trees (\n",
    "        base.get_tree (parent_tree), base.get_tree (commit.tree))\n",
    "    # sys.stdout.flush ()\n",
    "    # sys.stdout.buffer.write (result)\n",
    "    print (result)"
   ]
  },
  {
   "cell_type": "code",
   "execution_count": 13,
   "metadata": {},
   "outputs": [],
   "source": [
    "@app.command('diff')\n",
    "def _diff (commit: str,\n",
    "           cached: bool = typer.Option (False)):\n",
    "    \"\"\"\n",
    "    Show the differences to current HEAD or given Commit point\n",
    "    \"\"\"\n",
    "    oid = commit and base.get_oid (commit)\n",
    "\n",
    "    if commit:\n",
    "        # If a commit was provided explicitly, diff from it\n",
    "        tree_from = base.get_tree (oid and base.get_commit (oid).tree)\n",
    "\n",
    "    if cached:\n",
    "        tree_to = base.get_index_tree ()\n",
    "        if not commit:\n",
    "            # If no commit was provided, diff from HEAD\n",
    "            oid = base.get_oid ('@')\n",
    "            tree_from = base.get_tree (oid and base.get_commit (oid).tree)\n",
    "    else:\n",
    "        tree_to = base.get_working_tree ()\n",
    "        if not commit:\n",
    "            # If no commit was provided, diff from index\n",
    "            tree_from = base.get_index_tree ()\n",
    "\n",
    "    result = diff.diff_trees (tree_from, tree_to)\n",
    "    sys.stdout.flush ()\n",
    "    sys.stdout.buffer.write (result)\n"
   ]
  },
  {
   "cell_type": "code",
   "execution_count": 14,
   "metadata": {},
   "outputs": [],
   "source": [
    "@app.command()\n",
    "def checkout (commit: str = typer.Argument('@', callback=is_oid)):\n",
    "    \"\"\"\n",
    "    Checkout working tree based until given reference\n",
    "    \"\"\"\n",
    "    \n",
    "    base.checkout (args.commit)"
   ]
  },
  {
   "cell_type": "code",
   "execution_count": 15,
   "metadata": {},
   "outputs": [],
   "source": [
    "@app.command()\n",
    "def tag (name: str,\n",
    "         oid: str = typer.Argument('@', callback=is_oid)):\n",
    "    \"\"\"\n",
    "    Create a tag pointer to the given Commit point\n",
    "    \"\"\"\n",
    "    base.create_tag (args.name, args.oid)"
   ]
  },
  {
   "cell_type": "code",
   "execution_count": 16,
   "metadata": {},
   "outputs": [],
   "source": [
    "@app.command()\n",
    "def branch (name: str,\n",
    "            start_point: str = typer.Argument('@', callback=is_oid)):\n",
    "    \"\"\"\n",
    "    Create a branch name associated to an existing Commit point\n",
    "    \"\"\"\n",
    "    if not name:\n",
    "        current = base.get_branch_name ()\n",
    "        for branch in base.iter_branch_names ():\n",
    "            prefix = '*' if branch == current else ' '\n",
    "            print (f'{prefix} {branch}')\n",
    "    else:\n",
    "        base.create_branch (name, start_point)\n",
    "        print (f'Branch {name} created at {start_point[:10]}')"
   ]
  },
  {
   "cell_type": "code",
   "execution_count": 17,
   "metadata": {},
   "outputs": [],
   "source": [
    "@app.command()\n",
    "def k ():\n",
    "    \"\"\"\n",
    "    Display a diagram of Commits & References\n",
    "    \"\"\"\n",
    "    dot = 'digraph commits {\\n'\n",
    "\n",
    "    oids = set ()\n",
    "    for refname, ref in data.iter_refs (deref=False):\n",
    "        dot += f'\"{refname}\" [shape=note]\\n'\n",
    "        dot += f'\"{refname}\" -> \"{ref.value}\"\\n'\n",
    "        if not ref.symbolic:\n",
    "            oids.add (ref.value)\n",
    "\n",
    "    for oid in base.iter_commits_and_parents (oids):\n",
    "        commit = base.get_commit (oid)\n",
    "        dot += f'\"{oid}\" [shape=box style=filled label=\"{oid[:10]}\"]\\n'\n",
    "        for parent in commit.parents:\n",
    "            dot += f'\"{oid}\" -> \"{parent}\"\\n'\n",
    "\n",
    "    dot += '}'\n",
    "    print (dot)\n",
    "\n",
    "    with subprocess.Popen (\n",
    "            ['dot', '-Tgtk', '/dev/stdin'],\n",
    "            stdin=subprocess.PIPE) as proc:\n",
    "        proc.communicate (dot.encode ())"
   ]
  },
  {
   "cell_type": "code",
   "execution_count": 18,
   "metadata": {},
   "outputs": [],
   "source": [
    "@app.command()\n",
    "def status ():\n",
    "    \"\"\"\n",
    "    List status on changed, staged or comitted files\n",
    "    \"\"\"\n",
    "    HEAD = base.get_oid ('@')\n",
    "    branch = base.get_branch_name ()\n",
    "    if branch:\n",
    "        print (f'On branch {branch}')\n",
    "    else:\n",
    "        print (f'HEAD detached at {HEAD[:10]}')\n",
    "\n",
    "    MERGE_HEAD = data.get_ref ('MERGE_HEAD').value\n",
    "    if MERGE_HEAD:\n",
    "        print (f'Merging with {MERGE_HEAD[:10]}')\n",
    "\n",
    "    print ('\\nChanges to be committed:\\n')\n",
    "    HEAD_tree = HEAD and base.get_commit (HEAD).tree\n",
    "    for path, action in diff.iter_changed_files (base.get_tree (HEAD_tree),\n",
    "                                                 base.get_index_tree ()):\n",
    "        print (f'{action:>12}: {path}')\n",
    "\n",
    "    print ('\\nChanges not staged for commit:\\n')\n",
    "    for path, action in diff.iter_changed_files (base.get_index_tree (),\n",
    "                                                 base.get_working_tree ()):\n",
    "        print (f'{action:>12}: {path}')"
   ]
  },
  {
   "cell_type": "code",
   "execution_count": 19,
   "metadata": {},
   "outputs": [],
   "source": [
    "@app.command()\n",
    "def reset (commit: str = typer.Argument('@', callback=is_oid)):\n",
    "    \"\"\"\n",
    "    Reset HEAD to given Commit point\n",
    "    \"\"\"\n",
    "    base.reset (commit)"
   ]
  },
  {
   "cell_type": "code",
   "execution_count": 20,
   "metadata": {},
   "outputs": [],
   "source": [
    "@app.command()\n",
    "def merge commit: str = typer.Argument('@', callback=is_oid)):\n",
    "    \"\"\"\n",
    "    Merge Branch with current HEAD\n",
    "    \"\"\"\n",
    "    base.merge (commit)"
   ]
  },
  {
   "cell_type": "code",
   "execution_count": 21,
   "metadata": {},
   "outputs": [],
   "source": [
    "@app.command()\n",
    "def merge_base (commit1: str = typer.Argument('@', callback=is_oid),\n",
    "                commit2: str = typer.Argument('@', callback=is_oid)):\n",
    "    \"\"\"\n",
    "    Merge branches based on two given commit points\n",
    "    \"\"\"\n",
    "    print (base.get_merge_base (commit1, commit2))"
   ]
  },
  {
   "cell_type": "code",
   "execution_count": 22,
   "metadata": {},
   "outputs": [],
   "source": [
    "@app.command()\n",
    "def fetch (remote_path: Path = typer.Argument(..., exists=True, dir_okay=True, readable=True)):\n",
    "    \"\"\"\n",
    "    Fetch data objects from remote path\n",
    "    \"\"\"\n",
    "    remote.fetch (remote_path)"
   ]
  },
  {
   "cell_type": "code",
   "execution_count": 25,
   "metadata": {},
   "outputs": [],
   "source": [
    "@app.command()\n",
    "def push (remote_path: Path = typer.Argument(..., exists=True, dir_okay=False, readable=True),\n",
    "          branch: str = typer.Argument('@', callback=base.is_branch)):\n",
    "    \"\"\"\n",
    "    Push Branch to a remote repository\n",
    "    \"\"\"\n",
    "    remote.push (remote_path, f'refs/heads/{branch}')"
   ]
  },
  {
   "cell_type": "code",
   "execution_count": null,
   "metadata": {},
   "outputs": [],
   "source": [
    "@app.command()\n",
    "def add (files: List[Path]):\n",
    "    \"\"\"\n",
    "    Add a list of files/dirs to the repository and its Index file\n",
    "    \"\"\"\n",
    "    base.add (files)"
   ]
  },
  {
   "cell_type": "code",
   "execution_count": null,
   "metadata": {},
   "outputs": [],
   "source": [
    "#@app.command (context_settings={\"allow_extra_args\": True,\n",
    "#                                \"ignore_unknown_options\": True})\n",
    "@app.command ()\n",
    "def main ():\n",
    "        # ctx: typer.Context):\n",
    "        #    for extra_arg in ctx.args:\n",
    "        #        typer.echo(f\"Got extra arg: {extra_arg}\")\n",
    "\n",
    "    with data.change_git_dir ('.'):\n",
    "        app()"
   ]
  },
  {
   "cell_type": "code",
   "execution_count": null,
   "metadata": {},
   "outputs": [],
   "source": [
    "if __name__ == \"__main__\":\n",
    "    pass\n",
    "#    app()"
   ]
  },
  {
   "cell_type": "code",
   "execution_count": 24,
   "metadata": {},
   "outputs": [
    {
     "name": "stdout",
     "output_type": "stream",
     "text": [
      "{'f0ed05c972c1336315641d3cabd6169bb8b9b2c1': ['HEAD', 'refs/heads/master'], '1374e905cf08bf82807f9466ee7c08290b648952': ['refs/heads/v0.1'], 'a5b1ef8fabf605b1a50b88c17a87f7440f662bd6': ['refs/tags/Stage1']}\n"
     ]
    }
   ],
   "source": [
    "refs = {}\n",
    "for refname, ref in data.iter_refs ():\n",
    "    refs.setdefault (ref.value, []).append (refname)\n",
    "print (refs)"
   ]
  },
  {
   "cell_type": "code",
   "execution_count": null,
   "metadata": {},
   "outputs": [],
   "source": []
  }
 ],
 "metadata": {
  "kernelspec": {
   "display_name": "Python 3",
   "language": "python",
   "name": "python3"
  },
  "language_info": {
   "codemirror_mode": {
    "name": "ipython",
    "version": 3
   },
   "file_extension": ".py",
   "mimetype": "text/x-python",
   "name": "python",
   "nbconvert_exporter": "python",
   "pygments_lexer": "ipython3",
   "version": "3.6.10"
  },
  "latex_envs": {
   "LaTeX_envs_menu_present": true,
   "autoclose": false,
   "autocomplete": true,
   "bibliofile": "biblio.bib",
   "cite_by": "apalike",
   "current_citInitial": 1,
   "eqLabelWithNumbers": true,
   "eqNumInitial": 1,
   "hotkeys": {
    "equation": "Ctrl-E",
    "itemize": "Ctrl-I"
   },
   "labels_anchors": false,
   "latex_user_defs": false,
   "report_style_numbering": false,
   "user_envs_cfg": false
  }
 },
 "nbformat": 4,
 "nbformat_minor": 2
}
