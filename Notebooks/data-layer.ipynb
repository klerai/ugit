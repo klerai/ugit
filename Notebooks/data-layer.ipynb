{
 "cells": [
  {
   "cell_type": "markdown",
   "metadata": {},
   "source": [
    "# Project UGIT \n",
    "### - a Python based sample of a GIT type repository tool"
   ]
  },
  {
   "cell_type": "markdown",
   "metadata": {},
   "source": [
    "### Data Access Layer"
   ]
  },
  {
   "cell_type": "code",
   "execution_count": null,
   "metadata": {},
   "outputs": [],
   "source": [
    "# File: data.py\n",
    "# Date: 2020-11-29"
   ]
  },
  {
   "cell_type": "code",
   "execution_count": 3,
   "metadata": {},
   "outputs": [],
   "source": [
    "import hashlib\n",
    "import json\n",
    "#import os\n",
    "\n",
    "from pathlib import Path\n",
    "from collections import namedtuple\n",
    "from contextlib import contextmanager\n"
   ]
  },
  {
   "cell_type": "code",
   "execution_count": 4,
   "metadata": {},
   "outputs": [],
   "source": [
    "GIT_DIR = Path('.ugit')\n",
    "\n",
    "RefValue = namedtuple ('RefValue', ['symbolic', 'value'])\n",
    "RefValue.__doc__ = \"\"\"A name tuple representing a Reference Value\n",
    "- with two fields:\n",
    "  symbolic  - Boolean \n",
    "  value     - reference path\n",
    "\"\"\""
   ]
  },
  {
   "cell_type": "code",
   "execution_count": 5,
   "metadata": {},
   "outputs": [],
   "source": [
    "@contextmanager\n",
    "def change_git_dir (new_dir):\n",
    "    \"\"\" Switches temporarily to a different .ugit directory, \n",
    "    yields control back to the caller \n",
    "    and afterwards switches back to the previous .ugit directory\n",
    "    \"\"\"\n",
    "    global GIT_DIR\n",
    "    old_dir = GIT_DIR\n",
    "    GIT_DIR = Path(new_dir) / '.ugit'\n",
    "    yield\n",
    "    GIT_DIR = old_dir"
   ]
  },
  {
   "cell_type": "code",
   "execution_count": 6,
   "metadata": {},
   "outputs": [],
   "source": [
    "def init ():\n",
    "    \"\"\" Initialize ugit's initial directory structure \"\"\"\n",
    "    (GIT_DIR / 'objects').mkdir(parents=True, exist_ok=True)"
   ]
  },
  {
   "cell_type": "code",
   "execution_count": 7,
   "metadata": {},
   "outputs": [],
   "source": [
    "def update_ref (ref, value, deref=True):\n",
    "    \"\"\" Update references such as Branches, Heads and Tags \"\"\"\n",
    "    ref = _get_ref_internal (ref, deref)[0]\n",
    "    \n",
    "    assert value.value\n",
    "    if value.symbolic:\n",
    "        value = f'ref: {value.value}'\n",
    "    else:\n",
    "        value = value.value\n",
    "    \n",
    "    # write value to the reference file,\n",
    "    # while creating the correct directory path, if needed\n",
    "    ref_path = GIT_DIR / ref\n",
    "    ref_path.parent.mkdir(parents=True, exist_ok=True)\n",
    "    ref_path.write_text(value)"
   ]
  },
  {
   "cell_type": "code",
   "execution_count": 8,
   "metadata": {},
   "outputs": [],
   "source": [
    "def get_ref (ref, deref=True):\n",
    "    \"\"\" return reference or object Id \"\"\"\n",
    "    return _get_ref_internal (ref, deref)[1]"
   ]
  },
  {
   "cell_type": "code",
   "execution_count": 9,
   "metadata": {},
   "outputs": [],
   "source": [
    "def delete_ref (ref, deref=True):\n",
    "    \"\"\" Delete given reference \"\"\"\n",
    "    ref = _get_ref_internal (ref, deref)[0]\n",
    "    (GIT_DIR / ref).unlink()"
   ]
  },
  {
   "cell_type": "code",
   "execution_count": 30,
   "metadata": {},
   "outputs": [
    {
     "data": {
      "text/plain": [
       "RefValue(symbolic=False, value=None)"
      ]
     },
     "execution_count": 30,
     "metadata": {},
     "output_type": "execute_result"
    }
   ],
   "source": [
    "get_ref('@')"
   ]
  },
  {
   "cell_type": "code",
   "execution_count": 10,
   "metadata": {},
   "outputs": [],
   "source": [
    "def _get_ref_internal (ref, deref):\n",
    "    \"\"\" recursively scan through references \"\"\"\n",
    "    value = None\n",
    "    ref_path = GIT_DIR / ref\n",
    "    if ref_path.is_file():\n",
    "        value = ref_path.read_text().strip()\n",
    "\n",
    "    symbolic = bool (value) and value.startswith ('ref:')\n",
    "    if symbolic:\n",
    "        value = value.split (':', 1)[1].strip ()\n",
    "        if deref:\n",
    "            return _get_ref_internal (value, deref=True)\n",
    "\n",
    "    return ref, RefValue (symbolic=symbolic, value=value)"
   ]
  },
  {
   "cell_type": "code",
   "execution_count": 11,
   "metadata": {},
   "outputs": [],
   "source": [
    "def iter_refs (prefix='', deref=True):\n",
    "    \"\"\" Iterator to return list of references \"\"\"\n",
    "    refs = ['HEAD', 'MERGE_HEAD']\n",
    "\n",
    "    # extend list by all files within the '.ugit/refs' tree\n",
    "    refs.extend( str(fp.relative_to(GIT_DIR))\n",
    "                 for fp in (GIT_DIR / 'refs').rglob('*')\n",
    "                 if fp.is_file()\n",
    "               ) \n",
    "\n",
    "    for refname in refs:\n",
    "        if not refname.startswith (prefix):\n",
    "            continue\n",
    "        ref = get_ref (refname, deref=deref)\n",
    "        if ref.value:\n",
    "            yield refname, ref"
   ]
  },
  {
   "cell_type": "code",
   "execution_count": 12,
   "metadata": {},
   "outputs": [],
   "source": [
    "@contextmanager\n",
    "def get_index ():\n",
    "    \"\"\" In the context of processing the Index from JSON file, \n",
    "    the Index is returned to the caller, \n",
    "    and afterwards written back in JSON format.\n",
    "    \"\"\"\n",
    "    index = {}\n",
    "\n",
    "    fp = GIT_DIR / 'index'\n",
    "    if fp.is_file ():\n",
    "        index = json.loads (fp.read_text ())\n",
    "\n",
    "    yield index\n",
    "\n",
    "    fp.write_text (json.dumps (index))"
   ]
  },
  {
   "cell_type": "code",
   "execution_count": 13,
   "metadata": {},
   "outputs": [],
   "source": [
    "def hash_object (data, type_='blob'):\n",
    "    \"\"\" write file content to object database by object Id \"\"\"\n",
    "    obj = type_.encode () + b'\\x00' + data\n",
    "    oid = hashlib.sha1 (obj).hexdigest ()\n",
    "\n",
    "    fp = GIT_DIR / 'objects' / oid\n",
    "    if not fp.is_file ():\n",
    "        fp.write_bytes(obj)\n",
    "    \n",
    "    return oid"
   ]
  },
  {
   "cell_type": "code",
   "execution_count": 14,
   "metadata": {},
   "outputs": [],
   "source": [
    "def get_object (oid, expected='blob'):\n",
    "    \"\"\" Fetch file content from object database by OId \"\"\"\n",
    "    obj = (GIT_DIR / 'objects' / oid).read_bytes()\n",
    "\n",
    "    type_, _, content = obj.partition (b'\\x00')\n",
    "    type_ = type_.decode ()\n",
    "\n",
    "    if expected is not None:\n",
    "        assert type_ == expected, f'Expected {expected}, got {type_}'\n",
    "\n",
    "    return content"
   ]
  },
  {
   "cell_type": "code",
   "execution_count": 15,
   "metadata": {},
   "outputs": [],
   "source": [
    "def object_exists (oid):\n",
    "    \"\"\" Test if object exists \"\"\"\n",
    "    return (GIT_DIR / 'objects' / oid).is_file()"
   ]
  },
  {
   "cell_type": "code",
   "execution_count": 16,
   "metadata": {},
   "outputs": [],
   "source": [
    "def fetch_object_if_missing (oid, remote_git_dir):\n",
    "    \"\"\" Fetch object from remote GIT_DIR \"\"\"\n",
    "    if object_exists (oid):\n",
    "        return\n",
    "\n",
    "    fp = GIT_DIR / 'objects' / oid\n",
    "    fp.write_bytes( (remote_git_dir / fp ).read_bytes() )"
   ]
  },
  {
   "cell_type": "code",
   "execution_count": 17,
   "metadata": {},
   "outputs": [],
   "source": [
    "def push_object (oid, remote_git_dir):\n",
    "    \"\"\" Push object to remote GIT_DIR \"\"\"\n",
    "    fp = GIT_DIR / 'objects' / oid\n",
    "    (remote_git_dir / fp).write_bytes( fp.read_bytes() )"
   ]
  }
 ],
 "metadata": {
  "kernelspec": {
   "display_name": "Python 3",
   "language": "python",
   "name": "python3"
  },
  "language_info": {
   "codemirror_mode": {
    "name": "ipython",
    "version": 3
   },
   "file_extension": ".py",
   "mimetype": "text/x-python",
   "name": "python",
   "nbconvert_exporter": "python",
   "pygments_lexer": "ipython3",
   "version": "3.6.10"
  },
  "latex_envs": {
   "LaTeX_envs_menu_present": true,
   "autoclose": false,
   "autocomplete": true,
   "bibliofile": "biblio.bib",
   "cite_by": "apalike",
   "current_citInitial": 1,
   "eqLabelWithNumbers": true,
   "eqNumInitial": 1,
   "hotkeys": {
    "equation": "Ctrl-E",
    "itemize": "Ctrl-I"
   },
   "labels_anchors": false,
   "latex_user_defs": false,
   "report_style_numbering": false,
   "user_envs_cfg": false
  }
 },
 "nbformat": 4,
 "nbformat_minor": 2
}
